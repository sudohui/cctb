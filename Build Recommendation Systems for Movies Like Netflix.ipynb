{
 "cells": [
  {
   "cell_type": "markdown",
   "metadata": {},
   "source": [
    "<p style=\"text-align:center\">\n",
    "    <a href=\"https://skills.network\" target=\"_blank\">\n",
    "    <img src=\"https://cf-courses-data.s3.us.cloud-object-storage.appdomain.cloud/assets/logos/SN_web_lightmode.png\" width=\"200\" alt=\"Skills Network Logo\"  />\n",
    "    </a>\n",
    "</p>\n"
   ]
  },
  {
   "cell_type": "markdown",
   "metadata": {},
   "source": [
    "# <a id='toc1_'></a>[Build Netflix-like recommendation systems with Sklearn](#toc0_)\n"
   ]
  },
  {
   "cell_type": "markdown",
   "metadata": {},
   "source": [
    "Estimated time needed: **30** minutes\n"
   ]
  },
  {
   "cell_type": "markdown",
   "metadata": {},
   "source": [
    "In this guided project, we explore an easy way of building recommendation systems. We begin by looking at popular-based recommendations and then ease into a simple application of how content-based and collaborative filtering recommendation works.\n"
   ]
  },
  {
   "cell_type": "markdown",
   "metadata": {},
   "source": [
    "**Table of contents**<a id='toc0_'></a>    \n",
    " \n",
    "  - [Background on recommendation systems](#toc1_1_)    \n",
    "    - [Types of recommendation systems](#toc1_1_1_)    \n",
    "  - [Objectives](#toc1_2_)    \n",
    "  - [Setup](#toc1_3_)    \n",
    "    - [Installing required libraries](#toc1_3_1_)    \n",
    "    - [Importing required libraries](#toc1_3_2_)    \n",
    "  - [Exploratory data analysis (EDA)](#toc1_4_)    \n",
    "  - [Popularity-based recommendation](#toc1_5_)    \n",
    "    - [Exercise 1 - Get the top 5 suggestions sorting by score in descending order](#toc1_5_1_)    \n",
    "  - [Content-based recommendation](#toc1_6_)    \n",
    "    - [Exercise 2 - Check the recommendations for the movie 'Toy Story 2 (1999)'](#toc1_6_1_)    \n",
    "  - [Collaborative filtering](#toc1_7_)    \n",
    "    - [Exercise 3 - Check the recommendations for the movie 'Jurassic Park (1993)'](#toc1_7_1_)   \n"
   ]
  },
  {
   "cell_type": "markdown",
   "metadata": {},
   "source": [
    "## <a id='toc1_1_'></a>[Background on recommendation systems](#toc0_)\n",
    "\n",
    "Recommendation systems have become an integral part of our digital lives, subtly shaping the content we consume and the products we buy. From suggesting movies on Netflix to recommending products on Amazon, these systems help users navigate vast amounts of information by providing personalized suggestions based on their preferences and behaviors.\n",
    "\n",
    "### <a id='toc1_1_1_'></a>[Types of recommendation systems](#toc0_)\n",
    "\n",
    "There are several types of recommendation systems, each with its unique approach to generating recommendations:\n",
    "\n",
    "1. **Popularity-based recommendation**: Popular-based recommendation systems are straightforward to implement because they don’t require complex algorithms or user-specific data. They often rely on basic statistics like item frequency and offer the same suggestions to all users, focusing on what is popular among the majority.\n",
    "\n",
    "2. **Content-based filtering**: This approach focuses on the characteristics of the items themselves. It recommends items that are similar to those the user has shown interest in, based on item features.\n",
    "\n",
    "3. **Collaborative filtering**: This method relies on the collective preferences of users. It can be user-based, where recommendations are made based on the preferences of similar users, or item-based, where recommendations are made based on items that are similar to what the user has liked in the past.\n"
   ]
  },
  {
   "cell_type": "markdown",
   "metadata": {},
   "source": [
    "## <a id='toc1_2_'></a>[Objectives](#toc0_)\n",
    "\n",
    "\n",
    "\n",
    "After completing this lab, you are able to:\n",
    "\n",
    "\n",
    "\n",
    "- Understand the basic concepts and types of recommendation systems.\n",
    "\n",
    "- Implement a simple popularity-based recommendation system.\n",
    "\n",
    "- Implement a content-based recommendation system.\n",
    "\n",
    "- Implement a item-based recommendation system.\n",
    "\n"
   ]
  },
  {
   "cell_type": "markdown",
   "metadata": {},
   "source": [
    "----\n"
   ]
  },
  {
   "cell_type": "markdown",
   "metadata": {},
   "source": [
    "## <a id='toc1_3_'></a>[Setup](#toc0_)\n",
    "\n",
    "For this lab, you use the following libraries:\n",
    "\n",
    "*   [`pandas`](https://pandas.pydata.org/?utm_medium=Exinfluencer&utm_source=Exinfluencer&utm_content=000026UJ&utm_term=10006555&utm_id=NA-SkillsNetwork-Channel-SkillsNetworkCoursesIBMML0187ENSkillsNetwork31430127-2021-01-01) for managing the data.\n",
    "*   [`sklearn`](https://scikit-learn.org/stable/?utm_medium=Exinfluencer&utm_source=Exinfluencer&utm_content=000026UJ&utm_term=10006555&utm_id=NA-SkillsNetwork-Channel-SkillsNetworkCoursesIBMML0187ENSkillsNetwork31430127-2021-01-01) for machine learning and machine-learning-pipeline related functions.\n"
   ]
  },
  {
   "cell_type": "markdown",
   "metadata": {},
   "source": [
    "### <a id='toc1_3_1_'></a>[Installing required libraries](#toc0_)\n"
   ]
  },
  {
   "cell_type": "code",
   "execution_count": null,
   "metadata": {},
   "outputs": [],
   "source": [
    "%pip install tqdm==4.66.4  | tail -n 1\n",
    "%pip install pandas==2.1.4  | tail -n 1\n",
    "%pip install scikit-learn==1.5.1  | tail -n 1"
   ]
  },
  {
   "cell_type": "markdown",
   "metadata": {},
   "source": [
    "### <a id='toc1_3_2_'></a>[Importing required libraries](#toc0_)\n"
   ]
  },
  {
   "cell_type": "code",
   "execution_count": null,
   "metadata": {},
   "outputs": [],
   "source": [
    "import pandas as pd\n",
    "from sklearn.feature_extraction.text import TfidfVectorizer\n",
    "from sklearn.metrics.pairwise import cosine_similarity\n",
    "from sklearn.neighbors import NearestNeighbors\n",
    "import statistics\n",
    "\n",
    "\n",
    "# You can also use this section to suppress warnings generated by your code:\n",
    "def warn(*args, **kwargs):\n",
    "    pass\n",
    "\n",
    "import warnings\n",
    "\n",
    "warnings.warn = warn\n",
    "warnings.filterwarnings('ignore')\n"
   ]
  },
  {
   "cell_type": "markdown",
   "metadata": {},
   "source": [
    "The dataset is taken from [Kaggle](https://www.kaggle.com/datasets/shubhammehta21/movie-lens-small-latest-dataset/data).\n",
    "This dataset describes 5-star rating and free-text tagging activity from MovieLens, a movie recommendation service. Users were selected at random for inclusion. No demographic information is included. Each user is represented by an ID, and no other information is provided.\n",
    "\n",
    "The data are contained in the files movies.csv, ratings.csv and tags.csv. \n",
    "\n",
    "In the `movies.csv` file:\n",
    "- `movieId`: ID of the movie/show (unique)\n",
    "- `title`: Title of the movie/show\n",
    "- `genres`: Genre of the show\n",
    "  \n",
    "In the `ratings.csv` file:\n",
    "- `userId`: ID of the user who gave a rating\n",
    "- `movieId`: ID of the movie/show rated\n",
    "- `rating`: Rating given to the show\n",
    "- `timestamp`: Time when the rating was specified\n",
    "  \n",
    "In the `tags.csv` file:\n",
    "- `userId`: ID of the user who gave a rating\n",
    "- `movieId`: ID of the movie/show rated\n",
    "- `tag`: Tags given to the show\n",
    "- `timestamp`: Time when the rating was specified\n",
    "\n",
    "Now, let's load these datasets into a pandas DataFrame.\n",
    "\n"
   ]
  },
  {
   "cell_type": "code",
   "execution_count": null,
   "metadata": {},
   "outputs": [],
   "source": [
    "movie_df = pd.read_csv('https://cf-courses-data.s3.us.cloud-object-storage.appdomain.cloud/BxZuF3FrO7Bdw6McwsBaBw/movies.csv')\n",
    "rating_df = pd.read_csv('https://cf-courses-data.s3.us.cloud-object-storage.appdomain.cloud/R-bYYyyf7s3IUE5rsssmMw/ratings.csv')\n",
    "tag_df = pd.read_csv('https://cf-courses-data.s3.us.cloud-object-storage.appdomain.cloud/UZKHhXSl7Ft7t9mfUFZJPQ/tags.csv')"
   ]
  },
  {
   "cell_type": "markdown",
   "metadata": {},
   "source": [
    "Let's look at some samples rows from the dataset we loaded:\n"
   ]
  },
  {
   "cell_type": "code",
   "execution_count": null,
   "metadata": {},
   "outputs": [],
   "source": [
    "movie_df.sample(5)"
   ]
  },
  {
   "cell_type": "code",
   "execution_count": null,
   "metadata": {},
   "outputs": [],
   "source": [
    "tag_df.sample(5)"
   ]
  },
  {
   "cell_type": "code",
   "execution_count": null,
   "metadata": {},
   "outputs": [],
   "source": [
    "rating_df.sample(5)"
   ]
  },
  {
   "cell_type": "code",
   "execution_count": null,
   "metadata": {},
   "outputs": [],
   "source": [
    "# We will merge the three dataframes to create a single dataframe that contains all the information we need.\n",
    "user_movie_df = movie_df.merge(rating_df, on = 'movieId', how = 'inner')\n",
    "df = user_movie_df.merge(tag_df, on = ['movieId', 'userId'], how = 'inner')\n",
    "df"
   ]
  },
  {
   "cell_type": "code",
   "execution_count": null,
   "metadata": {},
   "outputs": [],
   "source": [
    "# Here, we will drop the timestamp columns as they are not needed for our analysis.\n",
    "df.drop(columns = ['timestamp_x', 'timestamp_y'], inplace = True)\n",
    "df"
   ]
  },
  {
   "cell_type": "markdown",
   "metadata": {},
   "source": [
    "---\n",
    "## <a id='toc1_4_'></a>[Exploratory data analysis (EDA)](#toc0_)\n"
   ]
  },
  {
   "cell_type": "markdown",
   "metadata": {},
   "source": [
    "Before doing any preprocessing, we will be performing some simple exploratory data analysis (EDA) to know about our dataset. This includes looking at the number of unique values/number of duplicate values, the distributions, etc.\n",
    "\n",
    "First, looking at the shape of the `pd.DataFrame`\n"
   ]
  },
  {
   "cell_type": "code",
   "execution_count": null,
   "metadata": {},
   "outputs": [],
   "source": [
    "print('Number of rows: ' , df.shape[0])\n",
    "print('Number of columns: ' , df.shape[1])"
   ]
  },
  {
   "cell_type": "markdown",
   "metadata": {},
   "source": [
    "Looking at the data type of each columns:\n"
   ]
  },
  {
   "cell_type": "code",
   "execution_count": null,
   "metadata": {},
   "outputs": [],
   "source": [
    "df.dtypes"
   ]
  },
  {
   "cell_type": "markdown",
   "metadata": {},
   "source": [
    "Next, let's see if we have any null values:\n"
   ]
  },
  {
   "cell_type": "code",
   "execution_count": null,
   "metadata": {},
   "outputs": [],
   "source": [
    "# Deal with null values\n",
    "df.isnull().any()"
   ]
  },
  {
   "cell_type": "markdown",
   "metadata": {},
   "source": [
    "## <a id='toc1_5_'></a>[Popularity-based recommendation](#toc0_)\n",
    "\n",
    "The popularity based recommendation recommends items, in this case, movies, based on what is popular accross the site. It is the most basic recommendation system. The system identifies popular items by considering metrics such as the number of views, ratings, or purchases and suggests these items to all users. For this type of recommendation system, all users get the same recommendations. The system can suggest items based on what's popular in your country. \n",
    "\n",
    "This approach ensures that users are aware of current popular content, which can be useful for new users who have not yet developed a viewing history on the platform. However, this is also a limitation because everyone receives the same suggestions, which may not always be relevant or interesting to them. This lack of specificity can result in a less engaging user experience compared to more personalized recommendation systems.\n"
   ]
  },
  {
   "cell_type": "code",
   "execution_count": null,
   "metadata": {},
   "outputs": [],
   "source": [
    "df_1 = df\n",
    "df_1"
   ]
  },
  {
   "cell_type": "markdown",
   "metadata": {},
   "source": [
    "Next, we will be calculating the number of votes and the average rating for each movie.\n"
   ]
  },
  {
   "cell_type": "code",
   "execution_count": null,
   "metadata": {},
   "outputs": [],
   "source": [
    "num_votes = df_1.groupby('movieId').size().reset_index(name='numVotes')\n",
    "\n",
    "# Merge the numVotes back into the original DataFrame\n",
    "df_1 = pd.merge(df_1, num_votes, on='movieId')\n",
    "\n",
    "df_1"
   ]
  },
  {
   "cell_type": "code",
   "execution_count": null,
   "metadata": {},
   "outputs": [],
   "source": [
    "avg_ratings = df_1.groupby('movieId')['rating'].mean().reset_index(name='avgRating')\n",
    "\n",
    "# Merge the avgRating back into the original DataFrame\n",
    "df_1 = pd.merge(df_1, avg_ratings, on='movieId')"
   ]
  },
  {
   "cell_type": "code",
   "execution_count": null,
   "metadata": {},
   "outputs": [],
   "source": [
    "df_1.drop_duplicates(subset = ['movieId', 'title', 'avgRating', 'numVotes'], inplace = True)\n",
    "df_1"
   ]
  },
  {
   "cell_type": "markdown",
   "metadata": {},
   "source": [
    "We will be calculating the weighted score for each type. Usually, we would think that a good score results when the rating is high and the number of votes is also high. For instance, suppose you were browsing to choose a restaurant to dine at on your trip. If restaurant A had score 8.5 with 100,000 votes and restaurant B had score 8.5 but with 10 votes, we would be more convinced that restaurant A is more enjoyable and popular. Similarly, if restaurant C had score 5.0 with 1000 votes and restaurant D had score 5.0 with 1 vote, we may not automatically think that restaurant D was not enjoyable (but we do know that it is not popular), since only one person submitted a rating, if another person gave it score 10, this would immediately bump the score of restaurant D to 7.5.\n",
    "\n",
    "The code below creates a new column `df['score']` that calculates the weighted average score for each movie.\n"
   ]
  },
  {
   "cell_type": "code",
   "execution_count": null,
   "metadata": {},
   "outputs": [],
   "source": [
    "import statistics\n",
    "\n",
    "# Define the function to calculate the weighted score\n",
    "def calculate_weighted_score(avgRating, num_votes, C, m):\n",
    "    return (num_votes * avgRating + m * C) / (num_votes + m)\n",
    "\n",
    "# Calculate the global average rating (C)\n",
    "average_rating = statistics.mean(df_1['avgRating'])\n",
    "print('The average rating across all movies is:', average_rating)\n",
    "\n",
    "# Calculate the average number of votes (m)\n",
    "avg_num_votes = statistics.mean(df_1['numVotes'])  # Use the average number of votes for threshold\n",
    "print('The average number of votes is:', avg_num_votes)\n",
    "\n",
    "# Create a new column 'score' for the weighted average rating using 'avgRating' and 'numVotes'\n",
    "df_1['score'] = df_1.apply(lambda row: calculate_weighted_score(row['avgRating'], row['numVotes'], average_rating, avg_num_votes), axis=1)\n",
    "\n",
    "# Display the DataFrame with the calculated weighted score\n",
    "df_1[['movieId', 'title', 'avgRating', 'numVotes', 'score']].head()"
   ]
  },
  {
   "cell_type": "code",
   "execution_count": null,
   "metadata": {},
   "outputs": [],
   "source": [
    "df_1"
   ]
  },
  {
   "cell_type": "markdown",
   "metadata": {},
   "source": [
    "### <a id='toc1_5_1_'></a>[Exercise 1 - Get the top 5 suggestions sorting by score in descending order](#toc0_)\n"
   ]
  },
  {
   "cell_type": "code",
   "execution_count": null,
   "metadata": {},
   "outputs": [],
   "source": [
    "# TODO: filtering out the top 5 suggestions\n",
    "# You can use `sort_values` to sort the DataFrame by the 'score' column in descending order\n"
   ]
  },
  {
   "cell_type": "markdown",
   "metadata": {},
   "source": [
    "<details>\n",
    "    <summary>Click here for the solution</summary>\n",
    "\n",
    "```python\n",
    "# filtering out the top 5 suggestions\n",
    "top_5_movies = df_1.sort_values(by = 'score', ascending = False).head(5)[['title', 'genres', 'tag', 'score']]\n",
    "print('Top 5 movies:')\n",
    "top_5_movies\n",
    "```\n",
    "\n",
    "</details>\n"
   ]
  },
  {
   "cell_type": "markdown",
   "metadata": {},
   "source": [
    "## <a id='toc1_6_'></a>[Content-based recommendation](#toc0_)\n",
    "\n",
    "Content-based filtering focuses on the attributes of items and the user's profile. It recommends movies to users based on features that closely match the user's profile. Movie A could be recommended because it matches the user's preferred genre, cast, and keywords. However, we might get limited diversity as it may not recommend items outside the user's known preferences, potentially limiting discovery of new types of items.\n",
    "\n",
    "We want to compute the cosine similarity based on a number of features. Next, we will be creating a column `features` to gather the columns that we want to recommend to users. Calculation will be based on the type, genres, origin country, language, plot, summary, and cast.\n"
   ]
  },
  {
   "cell_type": "code",
   "execution_count": null,
   "metadata": {},
   "outputs": [],
   "source": [
    "# We will now create a new DataFrame that contains only the columns we need for our analysis.\n",
    "df_2 = df_1[['movieId', 'title', 'userId', 'avgRating', 'numVotes', 'score', 'genres', 'tag']].copy()\n",
    "df_2.reset_index(drop=True, inplace=True)\n",
    "df_2"
   ]
  },
  {
   "cell_type": "code",
   "execution_count": null,
   "metadata": {},
   "outputs": [],
   "source": [
    "# Replace '|' with spaces in 'genres' and combine it with 'tag' using a space\n",
    "df_2['features'] = df_2['genres'].str.replace('|', ' ') + ' ' + df_2['tag'].fillna('')\n",
    "\n",
    "df_2"
   ]
  },
  {
   "cell_type": "markdown",
   "metadata": {},
   "source": [
    "Next, let's vectorize the features column using TF-IDF vectorizer. \n",
    "The Term Frequency-Inverse Document Frequency(TF-IDF) vectorizer is used to transform text into numerical representations. It evaluates the importance of a word in a document relative to a collection of documents by considering both its frequency within a specific document (TF) and its rarity across all documents (IDF).\n"
   ]
  },
  {
   "cell_type": "code",
   "execution_count": null,
   "metadata": {},
   "outputs": [],
   "source": [
    "from sklearn.feature_extraction.text import TfidfVectorizer\n",
    "\n",
    "vectorizer = TfidfVectorizer(stop_words='english')\n",
    "\n",
    "# Fit and transform the 'features' column to create TF-IDF vectors\n",
    "X = vectorizer.fit_transform(df_2['features'])"
   ]
  },
  {
   "cell_type": "markdown",
   "metadata": {},
   "source": [
    "Finally, let's get the cosine similarity and recommend items based on users' needs.\n"
   ]
  },
  {
   "cell_type": "code",
   "execution_count": null,
   "metadata": {},
   "outputs": [],
   "source": [
    "from sklearn.metrics.pairwise import cosine_similarity\n",
    "\n",
    "# Calculate Cosine Similarity\n",
    "similarity = cosine_similarity(X)\n",
    "\n",
    "# Recommendation function (including itself as first result)\n",
    "def recommendation(title, df, similarity, top_n=3):\n",
    "    try:\n",
    "        # Get the index of the movie that matches the title\n",
    "        idx = df[df['title'] == title].index[0]\n",
    "    except IndexError:\n",
    "        print(f\"Movie '{title}' not found in the dataset.\")\n",
    "        return\n",
    "\n",
    "    # Get the similarity scores for the given movie\n",
    "    sim_scores = list(enumerate(similarity[idx]))\n",
    "\n",
    "    # Sort the movies based on similarity scores in descending order\n",
    "    sim_scores = sorted(sim_scores, key=lambda x: x[1], reverse=True)\n",
    "\n",
    "    # Print the top_n most similar movies (including itself)\n",
    "    print(f\"Movies similar to '{title}' (First movie is itself):\")\n",
    "    for i, (index, score) in enumerate(sim_scores[:top_n+1]):\n",
    "        movie = df.iloc[index]\n",
    "        print(f\"{i}. {movie['title']} (Similarity Score: {score:.3f})\")\n",
    "        print(f\"   Genres: {movie['genres']}\")\n",
    "        print(f\"   Tag: {movie['tag']}\\n\")\n",
    "\n",
    "# Test the recommendation function\n",
    "recommendation(\"Toy Story (1995)\", df_2, similarity)"
   ]
  },
  {
   "cell_type": "markdown",
   "metadata": {},
   "source": [
    "### <a id='toc1_6_1_'></a>[Exercise 2 - Check the recommendations for the movie 'Toy Story 2 (1999)'](#toc0_)\n"
   ]
  },
  {
   "cell_type": "code",
   "execution_count": null,
   "metadata": {},
   "outputs": [],
   "source": [
    "# TODO\n"
   ]
  },
  {
   "cell_type": "markdown",
   "metadata": {},
   "source": [
    "<details>\n",
    "    <summary>Click here for the solution</summary>\n",
    "\n",
    "```python\n",
    "recommendation(\"Toy Story 2 (1999)\", df_2, similarity)\n",
    "```\n",
    "\n",
    "</details>\n"
   ]
  },
  {
   "cell_type": "markdown",
   "metadata": {},
   "source": [
    "---\n"
   ]
  },
  {
   "cell_type": "markdown",
   "metadata": {},
   "source": [
    "## <a id='toc1_7_'></a>[Collaborative filtering](#toc0_)\n",
    "\n",
    "Collaborative filtering is a recommendation system technique that makes automatic predictions about a user’s preferences by collecting taste or preference information from many users. The assumption behind collaborative filtering is that if users agreed on certain items in the past, they are likely to agree on similar items in the future.\n",
    "\n",
    "There are two primary approaches to collaborative filtering:\n",
    "\n",
    "1.\tUser-based Collaborative Filtering: This method identifies users with similar preferences and recommends items that similar users have liked. In other words, a user receives recommendations based on the preferences of users who have historically rated items similarly.\n",
    "2.\tItem-based Collaborative Filtering: In this method, items similar to those the user has liked or rated highly in the past are recommended. The system identifies items that are frequently rated similarly across a user base and suggests items that share these patterns.\n",
    "\n"
   ]
  },
  {
   "cell_type": "code",
   "execution_count": null,
   "metadata": {},
   "outputs": [],
   "source": [
    "# Pivot user-item matrix from ratings\n",
    "user_rating_matrix = rating_df.pivot(index=\"movieId\", columns=\"userId\", values=\"rating\")\n",
    "\n",
    "# fill na with 0\n",
    "user_rating_matrix = user_rating_matrix.fillna(0)\n",
    "\n",
    "user_rating_matrix.head()"
   ]
  },
  {
   "cell_type": "markdown",
   "metadata": {},
   "source": [
    "In this section, we will be using a NearestNeighbors classifier and using it based on the cosine similarity metric.\n"
   ]
  },
  {
   "cell_type": "code",
   "execution_count": null,
   "metadata": {},
   "outputs": [],
   "source": [
    "from sklearn.neighbors import NearestNeighbors\n",
    "\n",
    "rec = NearestNeighbors(metric = 'cosine')\n",
    "rec.fit(user_rating_matrix)"
   ]
  },
  {
   "cell_type": "markdown",
   "metadata": {},
   "source": [
    "Finally, here is our function to get 5 recommended items based on a movie previously watched.\n"
   ]
  },
  {
   "cell_type": "code",
   "execution_count": null,
   "metadata": {},
   "outputs": [],
   "source": [
    "# Function to get movie recommendations based on a title\n",
    "def get_recommendations(title):\n",
    "    # Get movie details\n",
    "    movie = df_2[df_2['title'] == title]\n",
    "    \n",
    "    if movie.empty:\n",
    "        print(f\"Movie '{title}' not found in dataset.\")\n",
    "        return None\n",
    "    \n",
    "    movie_id = int(movie['movieId'])\n",
    "    \n",
    "    # Get the index of the movie in the user-item matrix\n",
    "    try:\n",
    "        user_index = user_rating_matrix.index.get_loc(movie_id)\n",
    "    except KeyError:\n",
    "        print(f\"Movie ID {movie_id} not found in the user rating matrix.\")\n",
    "        return None\n",
    "    \n",
    "    # Get the user ratings for the movie\n",
    "    user_ratings = user_rating_matrix.iloc[user_index]\n",
    "    \n",
    "    # Reshape the ratings to be a single sample (1, -1)\n",
    "    reshaped_df = user_ratings.values.reshape(1, -1)\n",
    "    \n",
    "    # Find the nearest neighbors (similar movies)\n",
    "    distances, indices = rec.kneighbors(reshaped_df, n_neighbors=15)\n",
    "    \n",
    "    # Get the movieIds of the nearest neighbors (excluding the first, which is the queried movie itself)\n",
    "    nearest_idx = user_rating_matrix.iloc[indices[0]].index[1:]\n",
    "    \n",
    "    # Get the movie details for the nearest neighbors\n",
    "    nearest_neighbors = pd.DataFrame({'movieId': nearest_idx})\n",
    "    result = pd.merge(nearest_neighbors, df_2, on='movieId', how='left')\n",
    "    \n",
    "    # Return the top recommendations\n",
    "    return result[['title', 'avgRating', 'genres']].head()\n",
    "\n",
    "# Test the recommendation function\n",
    "get_recommendations('Toy Story (1995)')"
   ]
  },
  {
   "cell_type": "markdown",
   "metadata": {},
   "source": [
    "### <a id='toc1_7_1_'></a>[Exercise 3 - Check the recommendations for the movie 'Jurassic Park (1993)'](#toc0_)\n"
   ]
  },
  {
   "cell_type": "code",
   "execution_count": null,
   "metadata": {},
   "outputs": [],
   "source": [
    "# TODO\n"
   ]
  },
  {
   "cell_type": "markdown",
   "metadata": {},
   "source": [
    "<details>\n",
    "    <summary>Click here for the solution</summary>\n",
    "\n",
    "```python\n",
    "get_recommendations('Jurassic Park (1993)')\n",
    "```\n",
    "\n",
    "</details>\n"
   ]
  },
  {
   "cell_type": "markdown",
   "metadata": {},
   "source": [
    "---\n"
   ]
  },
  {
   "cell_type": "markdown",
   "metadata": {},
   "source": [
    "## <a id='toc1_8_'></a>[Authors](#toc0_)\n",
    "\n",
    "\n",
    "[Lucy Xu](https://author.skills.network/instructors/lucy_xu)\n",
    "\n",
    "[Ricky Shi](https://author.skills.network/instructors/ricky_shi)\n",
    "\n",
    "## <a id='toc1_9_'></a>[Contributors](#toc0_)\n",
    "\n",
    "[Hailey Quach](https://www.haileyq.com/)\n",
    "\n",
    "Copyright © 2024 IBM Corporation. All rights reserved.\n"
   ]
  }
 ],
 "metadata": {
  "kernelspec": {
   "display_name": "Python 3 (ipykernel)",
   "language": "python",
   "name": "python3"
  },
  "language_info": {
   "codemirror_mode": {
    "name": "ipython",
    "version": 3
   },
   "file_extension": ".py",
   "mimetype": "text/x-python",
   "name": "python",
   "nbconvert_exporter": "python",
   "pygments_lexer": "ipython3",
   "version": "3.12.8"
  },
  "prev_pub_hash": "ea1f4332896e90c91e62ed7cf4dc4eb6c20ae5794e4189606770359285dcedd2"
 },
 "nbformat": 4,
 "nbformat_minor": 4
}
